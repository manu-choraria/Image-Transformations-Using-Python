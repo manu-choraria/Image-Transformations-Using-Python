# To Display Image from a Website in GrayScale
from skimage.io import imread
from matplotlib import pyplot as plt
import matplotlib.cm as cm
example_file = ("https://tinypng.com/images/social/website.jpg")
image = imread(example_file, as_gray = True)
plt.imshow(image, cmap = cm.gray)
plt.show()

# To Crop The Image
image2 = image[0:500,200:800]
plt.imshow(image2, cmap=cm.gray) 
plt.show()

# To Resize The Image
image3 = resize(image,(60,60), mode = 'symmetric')
plt.imshow(image3, cmap = cm.gray)
print("data type: %s, shape: %s"%(type(image3), image3.shape))

# To Flaten The image i.e., Convert the pixels in one-dimensional array
image4=image.flatten()
print("datatype:%s Shape:%s"%(type(image4),image4.shape))
